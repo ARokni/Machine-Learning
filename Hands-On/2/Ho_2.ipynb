{
  "nbformat": 4,
  "nbformat_minor": 0,
  "metadata": {
    "kernelspec": {
      "display_name": "Python 3",
      "language": "python",
      "name": "python3"
    },
    "language_info": {
      "codemirror_mode": {
        "name": "ipython",
        "version": 3
      },
      "file_extension": ".py",
      "mimetype": "text/x-python",
      "name": "python",
      "nbconvert_exporter": "python",
      "pygments_lexer": "ipython3",
      "version": "3.7.3"
    },
    "colab": {
      "name": "HO2 Task - Classification - ML2020.ipynb",
      "provenance": [],
      "collapsed_sections": []
    },
    "accelerator": "GPU"
  },
  "cells": [
    {
      "cell_type": "markdown",
      "metadata": {
        "id": "HsdgcaOXm2Wc"
      },
      "source": [
        "![alt text](Capture8.png \"Title\")"
      ]
    },
    {
      "cell_type": "markdown",
      "metadata": {
        "id": "osk1HB2Rm2Wd"
      },
      "source": [
        "###  <font color=red>Working with MNIST Dataset</font> ###"
      ]
    },
    {
      "cell_type": "markdown",
      "metadata": {
        "id": "Mzbq3nMXm2We"
      },
      "source": [
        "__In this question, you are given the MNIST dataset, which consists of 70,000 images of digits handwritten by students and employees of US Census Bureau.__"
      ]
    },
    {
      "cell_type": "markdown",
      "metadata": {
        "id": "InPU-avUm2Wf"
      },
      "source": [
        "You are supposed to perform a binary classification task, separating digit 4 from others (0,1,2,3,5,6,7,8,9). The data could be downloaded using the code below:"
      ]
    },
    {
      "cell_type": "code",
      "metadata": {
        "id": "0Ew4yRi4m2Wf"
      },
      "source": [
        "from sklearn.datasets import fetch_openml\n",
        "import numpy as np\n",
        "\n",
        "# This will take less than a minute to run.\n",
        "\n",
        "X, y = fetch_openml('mnist_784', version=1, return_X_y=True)"
      ],
      "execution_count": null,
      "outputs": []
    },
    {
      "cell_type": "markdown",
      "metadata": {
        "id": "GW0dQkmBm2Wk"
      },
      "source": [
        "### <font color=green>1:</font> ###\n",
        "\n",
        "__In the first step, you are going to get acquainted with the dataset.__\n",
        "\n",
        "Randomly, plot three digits from the dataset."
      ]
    },
    {
      "cell_type": "code",
      "metadata": {
        "id": "8SfDh4Omm2Wl",
        "outputId": "29699ce3-d85b-47a6-ed8d-159f96b7e052",
        "colab": {
          "base_uri": "https://localhost:8080/",
          "height": 293
        }
      },
      "source": [
        "import matplotlib.pyplot as plt\n",
        "from numpy.random import seed\n",
        "from numpy.random import randint\n",
        "seed(10)\n",
        "\n",
        "\n",
        "images = np.reshape(X,((len(X),28,28)))\n",
        "fig = plt.figure\n",
        "num_row = 2\n",
        "num_col = 2\n",
        "num = 4\n",
        "# plot images\n",
        "fig, axes = plt.subplots(num_row, num_col, figsize=(1.5*num_col,2*num_row))\n",
        "random_images = randint(0, len(images), num)\n",
        "print(random_images)\n",
        "i = 0\n",
        "for c in random_images:\n",
        "    ax = axes[i//num_col, i%num_col]\n",
        "    ax.imshow(images[c], cmap='gray')\n",
        "    ax.set_title('Label: {}'.format(y[c]))\n",
        "    i = i + 1\n",
        "plt.tight_layout()\n",
        "plt.show()\n",
        "\n",
        "\n"
      ],
      "execution_count": null,
      "outputs": [
        {
          "output_type": "stream",
          "text": [
            "[50496  9372 10201 37597]\n"
          ],
          "name": "stdout"
        },
        {
          "output_type": "display_data",
          "data": {
            "image/png": "[encoded data removed]",
            "text/plain": [
              "<Figure size 216x288 with 4 Axes>"
            ]
          },
          "metadata": {
            "tags": [],
            "needs_background": "light"
          }
        }
      ]
    },
    {
      "cell_type": "markdown",
      "metadata": {
        "id": "rQTclBErm2Wp"
      },
      "source": [
        "### <font color=green>2:</font> ###\n",
        "__In the second step, you should build your dataset. Do as follows:__\n",
        "* Split your training and testing dataset (80% and 20%).\n",
        "* Set the random_state to 10.\n",
        "* As your goal is to identify digit 4, create the target vectors for this classification task  <font color=red>(note that you are training a binary classifier)</font>"
      ]
    },
    {
      "cell_type": "code",
      "metadata": {
        "id": "yoOiSS7nm2Wq"
      },
      "source": [
        "from sklearn.model_selection import train_test_split\n",
        "\n",
        "labels = np.copy(y)\n",
        "labels[labels!='4'] = False\n",
        "labels[labels=='4'] = True\n",
        "labels = np.asarray(labels, dtype = np.bool)\n",
        "\n",
        "X_train, X_test, y_train, y_test = train_test_split(X, labels, test_size=0.2, random_state=10)"
      ],
      "execution_count": null,
      "outputs": []
    },
    {
      "cell_type": "markdown",
      "metadata": {
        "id": "LgMRnHnpm2Wt"
      },
      "source": [
        "### <font color=green>3:</font> ###\n",
        "__Do the classification task using a <font color=red>Gaussian Naive Bayes Classifier</font>__:\n",
        "Because MNIST have zero variance in some features, we must use a var smoothing to cope this problem."
      ]
    },
    {
      "cell_type": "code",
      "metadata": {
        "id": "b4ksvjpEm2Wu",
        "outputId": "713784c1-95db-45e6-c683-cf1c80420502",
        "colab": {
          "base_uri": "https://localhost:8080/"
        }
      },
      "source": [
        "from sklearn.naive_bayes import GaussianNB   \n",
        "\n",
        "clf = GaussianNB(var_smoothing = 0.035)  \n",
        "# fitting the classifier\n",
        "clf.fit(X_train, y_train)"
      ],
      "execution_count": null,
      "outputs": [
        {
          "output_type": "execute_result",
          "data": {
            "text/plain": [
              "GaussianNB(priors=None, var_smoothing=0.035)"
            ]
          },
          "metadata": {
            "tags": []
          },
          "execution_count": 69
        }
      ]
    },
    {
      "cell_type": "markdown",
      "metadata": {
        "id": "-zgBRkb5m2Wy"
      },
      "source": [
        "### <font color=green>4:</font> ###\n",
        "__Calculate the following values:__\n",
        "* Confusion Matrix\n",
        "* Accuracy\n",
        "* Sensitivity\n",
        "* Specificity\n",
        "* Precision\n",
        "* Recall"
      ]
    },
    {
      "cell_type": "code",
      "metadata": {
        "id": "qSdjunrhm2Wy",
        "outputId": "8fa04b02-42eb-4f73-d95e-f71772ab09af",
        "colab": {
          "base_uri": "https://localhost:8080/"
        }
      },
      "source": [
        "y_pred = clf.predict(X_test)\n",
        "\n",
        "from sklearn.metrics import accuracy_score\n",
        "\n",
        "print(\"The accuracy of the model is: %.1f%%\" % (accuracy_score(y_test, y_pred)*100))"
      ],
      "execution_count": null,
      "outputs": [
        {
          "output_type": "stream",
          "text": [
            "The accuracy of the model is: 80.5%\n"
          ],
          "name": "stdout"
        }
      ]
    },
    {
      "cell_type": "code",
      "metadata": {
        "id": "RiA_skYx7gRk",
        "outputId": "5e60657e-0bb6-4c13-d2d5-cc2c47f67d20",
        "colab": {
          "base_uri": "https://localhost:8080/"
        }
      },
      "source": [
        "from sklearn.metrics import confusion_matrix\n",
        "\n",
        "confusion_mtx = confusion_matrix(y_test, y_pred)\n",
        "\n",
        "print(confusion_mtx)"
      ],
      "execution_count": null,
      "outputs": [
        {
          "output_type": "stream",
          "text": [
            "[[9948 2661]\n",
            " [  75 1316]]\n"
          ],
          "name": "stdout"
        }
      ]
    },
    {
      "cell_type": "code",
      "metadata": {
        "id": "sJ80K6cE7inA"
      },
      "source": [
        "import matplotlib.pyplot as plt\n",
        "import numpy as np\n",
        "import itertools\n",
        "\n",
        "def plot_confusion_matrix(cm, classes,\n",
        "                          normalize=False,\n",
        "                          title='Confusion matrix',\n",
        "                          cmap=plt.cm.Blues):\n",
        "    \"\"\"\n",
        "    This function prints and plots the confusion matrix.\n",
        "    Normalization can be applied by setting `normalize=True`.\n",
        "    \"\"\"\n",
        "    plt.figure(figsize = (5,5))\n",
        "    plt.imshow(cm, interpolation='nearest', cmap=cmap)\n",
        "    plt.title(title)\n",
        "    plt.colorbar()\n",
        "    tick_marks = np.arange(len(classes))\n",
        "    plt.xticks(tick_marks, classes, rotation=90)\n",
        "    plt.yticks(tick_marks, classes)\n",
        "    if normalize:\n",
        "        cm = cm.astype('float') / cm.sum(axis=1)[:, np.newaxis]\n",
        "\n",
        "    thresh = cm.max() / 2.\n",
        "    for i, j in itertools.product(range(cm.shape[0]), range(cm.shape[1])):\n",
        "        plt.text(j, i, cm[i, j],\n",
        "                 horizontalalignment=\"center\",\n",
        "                 color=\"white\" if cm[i, j] > thresh else \"black\")\n",
        "    plt.tight_layout()\n",
        "    plt.ylabel('True label')\n",
        "    plt.xlabel('Predicted label')"
      ],
      "execution_count": null,
      "outputs": []
    },
    {
      "cell_type": "code",
      "metadata": {
        "id": "6F6nGWWY7kmf",
        "outputId": "59b18444-f76f-44e5-a8d6-df1afe66ae09",
        "colab": {
          "base_uri": "https://localhost:8080/",
          "height": 364
        }
      },
      "source": [
        "class_names = ['Four', \"Others\"]\n",
        "plot_confusion_matrix(confusion_mtx, class_names)"
      ],
      "execution_count": null,
      "outputs": [
        {
          "output_type": "display_data",
          "data": {
            "image/png": "[encoded data removed]",
            "text/plain": [
              "<Figure size 360x360 with 2 Axes>"
            ]
          },
          "metadata": {
            "tags": [],
            "needs_background": "light"
          }
        }
      ]
    },
    {
      "cell_type": "code",
      "metadata": {
        "id": "aJ2CC_ad73mZ",
        "outputId": "291ed6b7-1882-47f5-8661-35a1a74ea531",
        "colab": {
          "base_uri": "https://localhost:8080/"
        }
      },
      "source": [
        "# 1\n",
        "\n",
        "from sklearn.metrics import classification_report\n",
        "\n",
        "print(classification_report(y_test, y_pred, target_names=class_names))"
      ],
      "execution_count": null,
      "outputs": [
        {
          "output_type": "stream",
          "text": [
            "              precision    recall  f1-score   support\n",
            "\n",
            "        Four       0.99      0.79      0.88     12609\n",
            "      Others       0.33      0.95      0.49      1391\n",
            "\n",
            "    accuracy                           0.80     14000\n",
            "   macro avg       0.66      0.87      0.68     14000\n",
            "weighted avg       0.93      0.80      0.84     14000\n",
            "\n"
          ],
          "name": "stdout"
        }
      ]
    },
    {
      "cell_type": "markdown",
      "metadata": {
        "id": "T5TrlmdAm2W2"
      },
      "source": [
        "### <font color=green>5:</font> ###\n",
        "__Now plot <font color=red>the ROC curve</font>, then calculate <font color=red>Area Under ROC (AUROC)</font>__"
      ]
    },
    {
      "cell_type": "code",
      "metadata": {
        "id": "v8pWxoHq5vh6"
      },
      "source": [
        "from sklearn.metrics import roc_curve, auc \n",
        "def _roc(_y_test, _y_prediction):\n",
        "  falseAlarm, hit, threshold = roc_curve(_y_test, _y_prediction)\n",
        "  roc_auc =  auc(falseAlarm, hit)\n",
        "  plt.figure()\n",
        "  plt.plot(falseAlarm, hit, color='r')\n",
        "  plt.xlabel(\"FA\")\n",
        "  plt.ylabel(\"Hit\")\n",
        "  print(\"AUC: \", roc_auc)"
      ],
      "execution_count": null,
      "outputs": []
    },
    {
      "cell_type": "code",
      "metadata": {
        "id": "FB7D71wPm2W3",
        "outputId": "587d5b11-16b2-4502-e69d-99b15b07963b",
        "colab": {
          "base_uri": "https://localhost:8080/",
          "height": 297
        }
      },
      "source": [
        "_roc(y_test, y_pred)"
      ],
      "execution_count": null,
      "outputs": [
        {
          "output_type": "stream",
          "text": [
            "AUC:  0.9426768243034329\n"
          ],
          "name": "stdout"
        },
        {
          "output_type": "display_data",
          "data": {
            "image/png": "[encoded data removed]",
            "text/plain": [
              "<Figure size 432x288 with 1 Axes>"
            ]
          },
          "metadata": {
            "tags": [],
            "needs_background": "light"
          }
        }
      ]
    },
    {
      "cell_type": "markdown",
      "metadata": {
        "id": "Rczqf10Pm2W7"
      },
      "source": [
        "### <font color=green>6:</font> ###\n",
        "__Finally, apply a 5-fold cross validation, and report your <font color=red>mean and std values</font>.__"
      ]
    },
    {
      "cell_type": "code",
      "metadata": {
        "id": "JDP0I6X_m2W8",
        "outputId": "ad99f186-5bf4-4d01-ca99-47ce41c6c254",
        "colab": {
          "base_uri": "https://localhost:8080/"
        }
      },
      "source": [
        "from sklearn.model_selection import cross_val_score\n",
        "\n",
        "acc = cross_val_score(clf, X, labels, cv=5, scoring='accuracy')\n",
        "\n",
        "print(acc)"
      ],
      "execution_count": null,
      "outputs": [
        {
          "output_type": "stream",
          "text": [
            "[0.80842857 0.804      0.80214286 0.81085714 0.80271429]\n"
          ],
          "name": "stdout"
        }
      ]
    },
    {
      "cell_type": "code",
      "metadata": {
        "id": "6z4FzUc68tpO",
        "outputId": "b253ff68-57e8-4392-9fa1-8243b63cd83d",
        "colab": {
          "base_uri": "https://localhost:8080/"
        }
      },
      "source": [
        "print(\"Our accuracy is: %.2f%% +- %.2f%%\" %(np.mean(acc)*100,np.std(acc)*100))"
      ],
      "execution_count": null,
      "outputs": [
        {
          "output_type": "stream",
          "text": [
            "Our accuracy is: 80.56% +- 0.34%\n"
          ],
          "name": "stdout"
        }
      ]
    },
    {
      "cell_type": "markdown",
      "metadata": {
        "id": "wg6nShC_m2W_"
      },
      "source": [
        "### <font color=green>7:</font> ###\n",
        "__How are your results?__\n",
        "\n",
        "__Is <font color=red>Gaussian Naive Bayes Classifier</font> a good one for this problem?__ It has an 80% performance. It seems, assumption of indepence is not realistic here. beceause each class has same neighbours for its pixels"
      ]
    },
    {
      "cell_type": "markdown",
      "metadata": {
        "id": "Bizzr7Wwm2XA"
      },
      "source": [
        "### __Repeat all the steps using <font color=green>Nearest Centroid Classifier</font> and <font color=green>Logistic Regression Classifier</font>.__ ### \n",
        "* You just need to make some changes to step 3!\n",
        "* You should report all the values in steps 4, 5, and 6"
      ]
    },
    {
      "cell_type": "code",
      "metadata": {
        "id": "9mrqxrqwy7zV",
        "outputId": "8a03db5b-4d5d-4bd5-a433-aec58de1fd45",
        "colab": {
          "base_uri": "https://localhost:8080/",
          "height": 878
        }
      },
      "source": [
        "from sklearn.neighbors import NearestCentroid\n",
        "\n",
        "clf_nearest = NearestCentroid(metric='euclidean')\n",
        "\n",
        "# fitting the classifier\n",
        "clf_nearest.fit(X_train, y_train)\n",
        "\n",
        "y_pred = clf_nearest.predict(X_test)\n",
        "\n",
        "from sklearn.metrics import accuracy_score\n",
        "\n",
        "print(\"The accuracy of the model is: %.1f%%\" % (accuracy_score(y_test, y_pred)*100))\n",
        "confusion_mtx = confusion_matrix(y_test, y_pred)\n",
        "\n",
        "print(confusion_mtx)\n",
        "\n",
        "class_names = ['Four', \"Others\"]\n",
        "plot_confusion_matrix(confusion_mtx, class_names)\n",
        "print(classification_report(y_test, y_pred, target_names=class_names))\n",
        "\n",
        "acc = cross_val_score(clf_nearest, X, labels, cv=5, scoring='accuracy')\n",
        "#print(acc)\n",
        "print(\"Our accuracy is: %.2f%% +- %.2f%%\" %(np.mean(acc)*100,np.std(acc)*100))\n",
        "_roc(y_test, y_pred)\n",
        "#metrics.plot_roc_curve(clf, X_test, y_test)  # doctest: +SKIP"
      ],
      "execution_count": null,
      "outputs": [
        {
          "output_type": "stream",
          "text": [
            "The accuracy of the model is: 87.3%\n",
            "[[10944  1665]\n",
            " [  119  1272]]\n",
            "              precision    recall  f1-score   support\n",
            "\n",
            "        Four       0.99      0.87      0.92     12609\n",
            "      Others       0.43      0.91      0.59      1391\n",
            "\n",
            "    accuracy                           0.87     14000\n",
            "   macro avg       0.71      0.89      0.76     14000\n",
            "weighted avg       0.93      0.87      0.89     14000\n",
            "\n",
            "Our accuracy is: 87.06% +- 0.37%\n",
            "AUC:  0.8912007495929528\n"
          ],
          "name": "stdout"
        },
        {
          "output_type": "display_data",
          "data": {
            "image/png": "[encoded data removed]",
            "text/plain": [
              "<Figure size 360x360 with 2 Axes>"
            ]
          },
          "metadata": {
            "tags": [],
            "needs_background": "light"
          }
        },
        {
          "output_type": "display_data",
          "data": {
            "image/png": "[encoded data removed]",
            "text/plain": [
              "<Figure size 432x288 with 1 Axes>"
            ]
          },
          "metadata": {
            "tags": [],
            "needs_background": "light"
          }
        }
      ]
    },
    {
      "cell_type": "code",
      "metadata": {
        "id": "Hetpf_20j9Yd",
        "outputId": "ceb5d15e-46d3-4960-82d7-aeb02ca740b1",
        "colab": {
          "base_uri": "https://localhost:8080/",
          "height": 896
        }
      },
      "source": [
        "\n",
        "from sklearn.linear_model import LogisticRegression\n",
        "from sklearn import preprocessing\n",
        "\n",
        "scaler = preprocessing.StandardScaler().fit(X_train)\n",
        "X_scaled_train = scaler.transform(X_train)\n",
        "X_scaled_test = scaler.transform(X_test)\n",
        "X_scaled = scaler.transform(X)\n",
        "\n",
        "clf = LogisticRegression(max_iter=100, tol = 100)\n",
        "\n",
        "\n",
        "# fitting the classifier\n",
        "clf.fit(X_scaled_train, y_train)\n",
        "\n",
        "y_pred = clf.predict(X_scaled_test)\n",
        "\n",
        "from sklearn.metrics import accuracy_score\n",
        "\n",
        "print(\"The accuracy of the model is: %.1f%%\" % (accuracy_score(y_test, y_pred)*100))\n",
        "confusion_mtx = confusion_matrix(y_test, y_pred)\n",
        "\n",
        "print(confusion_mtx)\n",
        "\n",
        "class_names = ['Four', \"Others\"]\n",
        "plot_confusion_matrix(confusion_mtx, class_names)\n",
        "print(classification_report(y_test, y_pred, target_names=class_names))\n",
        "acc = cross_val_score(clf, X_scaled, labels, cv=5, scoring='accuracy')\n",
        "print(acc)\n",
        "print(\"Our accuracy is: %.2f%% +- %.2f%%\" %(np.mean(acc)*100,np.std(acc)*100))\n",
        "#metrics.plot_roc_curve(clf, X_test, y_test)  # doctest: +SKIP\n",
        "_roc(y_test, y_pred)"
      ],
      "execution_count": null,
      "outputs": [
        {
          "output_type": "stream",
          "text": [
            "The accuracy of the model is: 98.2%\n",
            "[[12505   104]\n",
            " [  148  1243]]\n",
            "              precision    recall  f1-score   support\n",
            "\n",
            "        Four       0.99      0.99      0.99     12609\n",
            "      Others       0.92      0.89      0.91      1391\n",
            "\n",
            "    accuracy                           0.98     14000\n",
            "   macro avg       0.96      0.94      0.95     14000\n",
            "weighted avg       0.98      0.98      0.98     14000\n",
            "\n",
            "[0.98135714 0.98107143 0.98092857 0.98278571 0.98478571]\n",
            "Our accuracy is: 98.22% +- 0.15%\n",
            "AUC:  0.9426768243034329\n"
          ],
          "name": "stdout"
        },
        {
          "output_type": "display_data",
          "data": {
            "image/png": "[encoded data removed]",
            "text/plain": [
              "<Figure size 360x360 with 2 Axes>"
            ]
          },
          "metadata": {
            "tags": [],
            "needs_background": "light"
          }
        },
        {
          "output_type": "display_data",
          "data": {
            "image/png": "[encoded data removed]",
            "text/plain": [
              "<Figure size 432x288 with 1 Axes>"
            ]
          },
          "metadata": {
            "tags": [],
            "needs_background": "light"
          }
        }
      ]
    },
    {
      "cell_type": "markdown",
      "metadata": {
        "id": "jtj2KFJRm2XA"
      },
      "source": [
        "**Logistic Regression is the best model. It's a discriminative model and when we have enough data for trainin; it could reach high accuracy.\n",
        "Naive Bayes, is a generative algorithm. This algorithm, assume a strong independece between features, and this could lead to high error; but this generative algorithm is faster than others.\n",
        "Neares centroid performance has a good performance on mnist(better than Naive but can not reach the accuracy of Logistic); because each class of mnist; have similar pixels, so the average of classes are separable.**"
      ]
    },
    {
      "cell_type": "markdown",
      "metadata": {
        "id": "OUAcp_2Mm2XB"
      },
      "source": [
        "_________________________________________________________"
      ]
    },
    {
      "cell_type": "code",
      "metadata": {
        "id": "th5FAukm0IFC"
      },
      "source": [
        ""
      ],
      "execution_count": null,
      "outputs": []
    },
    {
      "cell_type": "markdown",
      "metadata": {
        "id": "gAKFSxCCm2XC"
      },
      "source": [
        "### <font color=blue>I hope you learned all the materials covered in the hands-on sessions.</font> ###\n",
        "### <font color=blue>Good luck :)</font> ###"
      ]
    }
  ]
}
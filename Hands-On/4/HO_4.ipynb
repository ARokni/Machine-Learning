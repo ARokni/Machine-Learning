{
  "nbformat": 4,
  "nbformat_minor": 0,
  "metadata": {
    "kernelspec": {
      "display_name": "Python 3",
      "language": "python",
      "name": "python3"
    },
    "language_info": {
      "codemirror_mode": {
        "name": "ipython",
        "version": 3
      },
      "file_extension": ".py",
      "mimetype": "text/x-python",
      "name": "python",
      "nbconvert_exporter": "python",
      "pygments_lexer": "ipython3",
      "version": "3.7.3"
    },
    "colab": {
      "name": "ML_Task4.ipynb",
      "provenance": [],
      "collapsed_sections": [],
      "toc_visible": true
    },
    "accelerator": "GPU"
  },
  "cells": [
    {
      "cell_type": "code",
      "metadata": {
        "id": "snLPaznLIdEq"
      },
      "source": [
        "import pandas as pd\r\n",
        "import numpy as np"
      ],
      "execution_count": 1,
      "outputs": []
    },
    {
      "cell_type": "code",
      "metadata": {
        "id": "vTrCYglYCUvi"
      },
      "source": [
        "\n",
        "\n",
        "star_dataset = pd.read_csv('/content/drive/MyDrive/ML/HO/HO4/star_dataset.csv')\n",
        "\n",
        "star_dataset = star_dataset[(star_dataset['Spectral Class'] == 'B') | (star_dataset['Spectral Class'] == 'O')]\n",
        "\n",
        "star_dataset_2features = star_dataset[['Temperature (K)','Absolute magnitude(Mv)']]\n",
        "Xo = star_dataset[star_dataset['Spectral Class'] == 'O']\n",
        "XB = star_dataset[star_dataset['Spectral Class'] == 'B']\n",
        "Xo = Xo[['Temperature (K)','Absolute magnitude(Mv)']]\n",
        "XB = XB[['Temperature (K)','Absolute magnitude(Mv)']]\n",
        "Xo = Xo.to_numpy()\n",
        "XB = XB.to_numpy()\n",
        "X_features = star_dataset_2features.to_numpy()"
      ],
      "execution_count": 4,
      "outputs": []
    },
    {
      "cell_type": "markdown",
      "metadata": {
        "id": "GIU9d6FkCUvj"
      },
      "source": [
        "### <font color=blue>1. Maximum Likelihood</font> ###\n",
        "\n",
        "__Report Mean and Covariance values for each class__"
      ]
    },
    {
      "cell_type": "code",
      "metadata": {
        "colab": {
          "base_uri": "https://localhost:8080/"
        },
        "id": "dgkAz1HaCUvj",
        "outputId": "b329b82e-9f4f-45ba-b821-422fae332790"
      },
      "source": [
        "from sklearn.covariance import EmpiricalCovariance\r\n",
        "cov = EmpiricalCovariance().fit(Xo)\r\n",
        "print(\"CLASS O: \")\r\n",
        "print('\\u03BC = ', cov.location_, sep=\"\\n\")\r\n",
        "print('\\u03A3 = ', cov.covariance_, sep=\"\\n\")"
      ],
      "execution_count": 5,
      "outputs": [
        {
          "output_type": "stream",
          "text": [
            "CLASS O: \n",
            "μ = \n",
            "[ 2.2294075e+04 -6.5961750e+00]\n",
            "Σ = \n",
            "[[ 1.09342188e+08 -6.18115637e+02]\n",
            " [-6.18115637e+02  2.23654314e+00]]\n"
          ],
          "name": "stdout"
        }
      ]
    },
    {
      "cell_type": "code",
      "metadata": {
        "colab": {
          "base_uri": "https://localhost:8080/"
        },
        "id": "uaevQgt2Juvz",
        "outputId": "f658d3d1-e151-49e3-c467-fa2678f80579"
      },
      "source": [
        "cov = EmpiricalCovariance().fit(XB)\r\n",
        "print(\"CLASS B: \")\r\n",
        "print('\\u03BC = ', cov.location_, sep=\"\\n\")\r\n",
        "print('\\u03A3 = ', cov.covariance_, sep=\"\\n\")"
      ],
      "execution_count": 6,
      "outputs": [
        {
          "output_type": "stream",
          "text": [
            "CLASS B: \n",
            "μ = \n",
            "[1.95744783e+04 3.72260870e+00]\n",
            "Σ = \n",
            "[[ 3.75467284e+07 -2.67843319e+04]\n",
            " [-2.67843319e+04  7.51544584e+01]]\n"
          ],
          "name": "stdout"
        }
      ]
    },
    {
      "cell_type": "markdown",
      "metadata": {
        "id": "3BQTjbznCUvj"
      },
      "source": [
        "### <font color=blue>2. Bayesian Density Estimation</font> ###\n",
        "__1. Report Mean and Covariance values for each class__<br>"
      ]
    },
    {
      "cell_type": "code",
      "metadata": {
        "colab": {
          "base_uri": "https://localhost:8080/"
        },
        "id": "FXLeEpV6CUvk",
        "outputId": "a60f6ffd-49d6-47da-d8ec-03e5244ec4ad"
      },
      "source": [
        "from sklearn.mixture import BayesianGaussianMixture\r\n",
        "BDE = BayesianGaussianMixture(n_components=2,covariance_type='full').fit(X_features)\r\n",
        "print('\\u03BC = ', BDE.means_, sep=\"\\n\")\r\n",
        "print('\\u03A3 = ', BDE.covariances_, sep=\"\\n\")"
      ],
      "execution_count": 7,
      "outputs": [
        {
          "output_type": "stream",
          "text": [
            "μ = \n",
            "[[ 1.69991164e+04  1.12995085e+01]\n",
            " [ 2.23633698e+04 -5.98819185e+00]]\n",
            "Σ = \n",
            "[[[ 1.72475019e+07 -4.40571606e+03]\n",
            "  [-4.40571606e+03  9.39796002e+00]]\n",
            "\n",
            " [[ 8.50458233e+07 -1.97805026e+03]\n",
            "  [-1.97805026e+03  5.75522159e+00]]]\n"
          ],
          "name": "stdout"
        }
      ]
    },
    {
      "cell_type": "markdown",
      "metadata": {
        "id": "yFDwNLxNCUvk"
      },
      "source": [
        "### <font color=blue>3. Expectation Maximization</font> ###\n",
        "__1. Report Mean and Covariance values for each class__<br>\n",
        "__2. Plot the Clusters__"
      ]
    },
    {
      "cell_type": "code",
      "metadata": {
        "colab": {
          "base_uri": "https://localhost:8080/"
        },
        "id": "q8ecmcqcCUvk",
        "outputId": "90e78ff8-37b5-456a-9dff-6f8ba6a452f9"
      },
      "source": [
        "from sklearn.mixture import GaussianMixture\r\n",
        "\r\n",
        "GMM = GaussianMixture(n_components=2, covariance_type='full').fit(X_features) # Instantiate and fit the model\r\n",
        "print('Converged:',GMM.converged_) # Check if the model has converged\r\n",
        "means = GMM.means_ \r\n",
        "covariances = GMM.covariances_\r\n",
        "\r\n",
        "print('\\u03BC = ', means, sep=\"\\n\")\r\n",
        "print('\\u03A3 = ', covariances, sep=\"\\n\")"
      ],
      "execution_count": 8,
      "outputs": [
        {
          "output_type": "stream",
          "text": [
            "Converged: True\n",
            "μ = \n",
            "[[ 1.68391667e+04  1.18154167e+01]\n",
            " [ 2.23878871e+04 -6.06737097e+00]]\n",
            "Σ = \n",
            "[[[ 1.49760780e+07 -1.80027465e+03]\n",
            "  [-1.80027465e+03  6.74842493e-01]]\n",
            "\n",
            " [[ 8.65636517e+07 -1.56714093e+03]\n",
            "  [-1.56714093e+03  4.44045265e+00]]]\n"
          ],
          "name": "stdout"
        }
      ]
    },
    {
      "cell_type": "code",
      "metadata": {
        "colab": {
          "base_uri": "https://localhost:8080/",
          "height": 374
        },
        "id": "oYdVQ6NALWHC",
        "outputId": "99da1ef1-ddaa-4aeb-833d-71ce1d637e24"
      },
      "source": [
        "import numpy as np\r\n",
        "import matplotlib.pyplot as plt\r\n",
        "from scipy.stats import multivariate_normal\r\n",
        "\r\n",
        "x,y = np.meshgrid(np.sort(X_features[:,0]),np.sort(X_features[:,1]))\r\n",
        "XY = np.array([x.flatten(),y.flatten()]).T\r\n",
        "\r\n",
        "# Plot   \r\n",
        "fig = plt.figure(figsize=(10,6))\r\n",
        "ax0 = fig.add_subplot(111)\r\n",
        "ax0.scatter(X_features[:,0],X_features[:,1])\r\n",
        "for m,c in zip(means,covariances):\r\n",
        "    multi_normal = multivariate_normal(mean=m,cov=c)\r\n",
        "    ax0.contour(np.sort(X_features[:,0]),np.sort(X_features[:,1]),multi_normal.pdf(XY).reshape(len(X_features),len(X_features)),colors='green',alpha=0.3)\r\n",
        "    ax0.scatter(m[0],m[1],c='red',zorder=10,s=100)\r\n",
        "    \r\n",
        "plt.show()\r\n"
      ],
      "execution_count": 9,
      "outputs": [
        {
          "output_type": "display_data",
          "data": {
            "image/png": "[encoded data removed]",
            "text/plain": [
              "<Figure size 720x432 with 1 Axes>"
            ]
          },
          "metadata": {
            "tags": [],
            "needs_background": "light"
          }
        }
      ]
    },
    {
      "cell_type": "markdown",
      "metadata": {
        "id": "qoWEtefYCUvk"
      },
      "source": [
        "### <font color=blue>4. Gaussian HMM</font><br> ###\n",
        "\n",
        "__1. Write the Transition Matrix and Emission Matrix__<br><br>\n",
        "__2. What is the probability of <font color=green>Sunny, Rainy, Rainy, Rainy, Snowy, Snowy</font>? (No need to code!)__<br><br>\n",
        "__3. Suppose that a man wore <font color=green>Coat, Coat, Umbrella, Umbrella, T-shirt, Umbrella, Coat</font>. What is the most likely weather condition in these 7 consecutive days?__"
      ]
    },
    {
      "cell_type": "markdown",
      "metadata": {
        "id": "B-AIBYblMQlB"
      },
      "source": [
        "**1.**\r\n",
        "\r\n",
        "Transition Matrix:\r\n",
        "\r\n",
        "|         |   Sunny   |  Rainy  | Snowy  |\r\n",
        "|---------|:-------- :|------:|------:|\r\n",
        "|  Sunny  |    0.8   |  0.15  | 0.05  |\r\n",
        "|   Rainy   |    0.38    |   0.6 |  0.02 |\r\n",
        "|   Snowy   |    0.75    |   0.05|  0.2 |\r\n",
        "\r\n",
        "Emission Matrix:\r\n",
        "\r\n",
        "|         |   T-Shirt   |  Umbrella  |   Coat   |\r\n",
        "|---------|:-------:|--------:|---------:|\r\n",
        "|  Sunny  |    0.6  |  0.1    |    0.3   |\r\n",
        "|   Rainy   |    0.05  |   0.65   |    0.3   |\r\n",
        "|   Snowy   |    0.0  |   0.5   |    0.5   |\r\n",
        "\r\n",
        "Initial Probability:\r\n",
        "\r\n",
        "##### P(Sunny) = 0.7\r\n",
        "##### P(Rainy)   = 0.25\r\n",
        "##### P(Rainy)   = 0.05"
      ]
    },
    {
      "cell_type": "markdown",
      "metadata": {
        "id": "fXCq6ROPQybA"
      },
      "source": [
        "**2.**\r\n",
        "\r\n",
        "**Prob** = 0.7 * 0.15 * 0.6 * 0.6 * 0.02 * 0.2 = 0.0001512"
      ]
    },
    {
      "cell_type": "markdown",
      "metadata": {
        "id": "U0l4HGDJRu07"
      },
      "source": [
        "**3.**"
      ]
    },
    {
      "cell_type": "code",
      "metadata": {
        "id": "_G5DCyp1CUvl"
      },
      "source": [
        "import numpy as np\r\n",
        "from hmmlearn import hmm\r\n",
        "    \r\n",
        "states = [\"Sunny\", \"Rainy\", \"Snowy\"]\r\n",
        "n_states = len(states)\r\n",
        "\r\n",
        "observations = [\"T-shirt\", \"Umbrella\", \"Coat\"]\r\n",
        "n_observations = len(observations)"
      ],
      "execution_count": 12,
      "outputs": []
    },
    {
      "cell_type": "code",
      "metadata": {
        "id": "FG5p1AliSVzE"
      },
      "source": [
        "model = hmm.MultinomialHMM(n_components = n_states, init_params= \"\", params= \"\")\r\n",
        "\r\n",
        "model.startprob_ = np.array([0.7, 0.25, 0.05])    \r\n",
        "\r\n",
        "model.transmat_ = np.array([\r\n",
        "        [0.8, 0.15, 0.05], \r\n",
        "        [0.38, 0.6, 0.02],\r\n",
        "        [0.75, 0.05, 0.2]])   \r\n",
        "    \r\n",
        "model.emissionprob_ = np.array([\r\n",
        "        [0.6, 0.1, 0.3],\r\n",
        "        [0.05, 0.65, 0.3],\r\n",
        "        [0.0, 0.5, 0.5]])"
      ],
      "execution_count": 13,
      "outputs": []
    },
    {
      "cell_type": "code",
      "metadata": {
        "colab": {
          "base_uri": "https://localhost:8080/"
        },
        "id": "7JOzVDLZTK6T",
        "outputId": "650f3a71-435f-4f9f-f543-04063b07dba8"
      },
      "source": [
        "# predict a sequence of hidden states based on visible states\r\n",
        "sto = np.array([[2, 2, 1, 1, 0, 1, 2]]).T\r\n",
        "\r\n",
        "model = model.fit(sto)\r\n",
        "logprob, hs = model.decode(sto, algorithm=\"viterbi\")\r\n",
        "print(\"Observation:\", sto.T)\r\n",
        "print(\"States:\", hs)\r\n",
        "\r\n",
        "print(\"Clothes:\", \", \".join(map(lambda x: observations[int(x)], sto)))\r\n",
        "print(\"States are:\", \", \".join(map(lambda x: states[int(x)], hs)))"
      ],
      "execution_count": 14,
      "outputs": [
        {
          "output_type": "stream",
          "text": [
            "Observation: [[2 2 1 1 0 1 2]]\n",
            "States: [1 1 1 1 0 0 0]\n",
            "Clothes: Coat, Coat, Umbrella, Umbrella, T-shirt, Umbrella, Coat\n",
            "States are: Rainy, Rainy, Rainy, Rainy, Sunny, Sunny, Sunny\n"
          ],
          "name": "stdout"
        }
      ]
    },
    {
      "cell_type": "code",
      "metadata": {
        "colab": {
          "base_uri": "https://localhost:8080/"
        },
        "id": "NHZwGAhwIWNG",
        "outputId": "8a803a66-d9e0-4ea1-8fc5-a48c1bbeabe9"
      },
      "source": [
        "pip install hmmlearn"
      ],
      "execution_count": 11,
      "outputs": [
        {
          "output_type": "stream",
          "text": [
            "Collecting hmmlearn\n",
            "\u001b[?25l  Downloading https://files.pythonhosted.org/packages/b3/49/9e9a89cee24b26ef6afec5abbd5eb9cf14632855f32b999389873ecb1b4e/hmmlearn-0.2.4-cp36-cp36m-manylinux1_x86_64.whl (361kB)\n",
            "\r\u001b[K     |█                               | 10kB 15.0MB/s eta 0:00:01\r\u001b[K     |█▉                              | 20kB 21.1MB/s eta 0:00:01\r\u001b[K     |██▊                             | 30kB 17.8MB/s eta 0:00:01\r\u001b[K     |███▋                            | 40kB 11.9MB/s eta 0:00:01\r\u001b[K     |████▌                           | 51kB 8.6MB/s eta 0:00:01\r\u001b[K     |█████▍                          | 61kB 10.0MB/s eta 0:00:01\r\u001b[K     |██████▍                         | 71kB 9.3MB/s eta 0:00:01\r\u001b[K     |███████▎                        | 81kB 9.7MB/s eta 0:00:01\r\u001b[K     |████████▏                       | 92kB 9.2MB/s eta 0:00:01\r\u001b[K     |█████████                       | 102kB 9.6MB/s eta 0:00:01\r\u001b[K     |██████████                      | 112kB 9.6MB/s eta 0:00:01\r\u001b[K     |██████████▉                     | 122kB 9.6MB/s eta 0:00:01\r\u001b[K     |███████████▉                    | 133kB 9.6MB/s eta 0:00:01\r\u001b[K     |████████████▊                   | 143kB 9.6MB/s eta 0:00:01\r\u001b[K     |█████████████▋                  | 153kB 9.6MB/s eta 0:00:01\r\u001b[K     |██████████████▌                 | 163kB 9.6MB/s eta 0:00:01\r\u001b[K     |███████████████▍                | 174kB 9.6MB/s eta 0:00:01\r\u001b[K     |████████████████▎               | 184kB 9.6MB/s eta 0:00:01\r\u001b[K     |█████████████████▎              | 194kB 9.6MB/s eta 0:00:01\r\u001b[K     |██████████████████▏             | 204kB 9.6MB/s eta 0:00:01\r\u001b[K     |███████████████████             | 215kB 9.6MB/s eta 0:00:01\r\u001b[K     |████████████████████            | 225kB 9.6MB/s eta 0:00:01\r\u001b[K     |████████████████████▉           | 235kB 9.6MB/s eta 0:00:01\r\u001b[K     |█████████████████████▊          | 245kB 9.6MB/s eta 0:00:01\r\u001b[K     |██████████████████████▊         | 256kB 9.6MB/s eta 0:00:01\r\u001b[K     |███████████████████████▋        | 266kB 9.6MB/s eta 0:00:01\r\u001b[K     |████████████████████████▌       | 276kB 9.6MB/s eta 0:00:01\r\u001b[K     |█████████████████████████▍      | 286kB 9.6MB/s eta 0:00:01\r\u001b[K     |██████████████████████████▎     | 296kB 9.6MB/s eta 0:00:01\r\u001b[K     |███████████████████████████▏    | 307kB 9.6MB/s eta 0:00:01\r\u001b[K     |████████████████████████████    | 317kB 9.6MB/s eta 0:00:01\r\u001b[K     |█████████████████████████████   | 327kB 9.6MB/s eta 0:00:01\r\u001b[K     |██████████████████████████████  | 337kB 9.6MB/s eta 0:00:01\r\u001b[K     |██████████████████████████████▉ | 348kB 9.6MB/s eta 0:00:01\r\u001b[K     |███████████████████████████████▊| 358kB 9.6MB/s eta 0:00:01\r\u001b[K     |████████████████████████████████| 368kB 9.6MB/s \n",
            "\u001b[?25hRequirement already satisfied: numpy>=1.10 in /usr/local/lib/python3.6/dist-packages (from hmmlearn) (1.19.4)\n",
            "Requirement already satisfied: scipy>=0.19 in /usr/local/lib/python3.6/dist-packages (from hmmlearn) (1.4.1)\n",
            "Requirement already satisfied: scikit-learn>=0.16 in /usr/local/lib/python3.6/dist-packages (from hmmlearn) (0.22.2.post1)\n",
            "Requirement already satisfied: joblib>=0.11 in /usr/local/lib/python3.6/dist-packages (from scikit-learn>=0.16->hmmlearn) (1.0.0)\n",
            "Installing collected packages: hmmlearn\n",
            "Successfully installed hmmlearn-0.2.4\n"
          ],
          "name": "stdout"
        }
      ]
    }
  ]
}
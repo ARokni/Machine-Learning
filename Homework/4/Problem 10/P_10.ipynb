{
  "nbformat": 4,
  "nbformat_minor": 0,
  "metadata": {
    "colab": {
      "name": "ML_Hw_4_P10(1).ipynb",
      "provenance": [],
      "collapsed_sections": []
    },
    "kernelspec": {
      "name": "python3",
      "display_name": "Python 3"
    }
  },
  "cells": [
    {
      "cell_type": "code",
      "metadata": {
        "id": "eWiTH0e9MX7e"
      },
      "source": [
        "import pandas as pd\n",
        "import numpy as np\n",
        "from sklearn.metrics import accuracy_score\n",
        "from sklearn.naive_bayes import GaussianNB   \n",
        "from numpy import linalg as LA\n",
        "import matplotlib.pyplot as plt\n",
        "from sklearn.metrics import accuracy_score"
      ],
      "execution_count": 3,
      "outputs": []
    },
    {
      "cell_type": "code",
      "metadata": {
        "id": "YgBIYO7zNFj6"
      },
      "source": [
        "train_data    = pd.read_csv('/content/drive/MyDrive/ML_Hw4/TinyMNIST/trainData.csv')\n",
        "train_labels  = pd.read_csv('/content/drive/MyDrive/ML_Hw4/TinyMNIST/trainLabels.csv')\n",
        "test_data     = pd.read_csv('/content/drive/MyDrive/ML_Hw4/TinyMNIST/testData.csv')  \n",
        "test_labels     = pd.read_csv('/content/drive/MyDrive/ML_Hw4/TinyMNIST/testLabels.csv')   \n",
        "\n",
        "X_train = train_data.values; y_train = train_labels.values\n",
        "X_test = test_data.values;   y_test  = test_labels.values\n"
      ],
      "execution_count": 6,
      "outputs": []
    },
    {
      "cell_type": "code",
      "metadata": {
        "id": "XTkEsH6GNqw8"
      },
      "source": [
        "def calc_var_perClass(data_per_class):\n",
        "    mean = np.mean(data_per_class, axis = 0)\n",
        "    x_bar = data_per_class - mean\n",
        "    var = np.matmul(x_bar.T, x_bar)\n",
        "    return var\n",
        "def calc_inner_Class(data_per_class,mean_data):\n",
        "    m_bar = np.mean(data_per_class, axis = 0) - mean_data\n",
        "    inner_class_mat = len(data_per_class)*np.matmul(m_bar, m_bar.T)\n",
        "    return inner_class_mat\n",
        "def lda_mat(train_data, train_labels):\n",
        "  labels = np.unique(train_labels)\n",
        "  variances = []; Sw = 0.0*np.identity(train_data.shape[1]); SB = 0.0*np.identity(train_data.shape[1])\n",
        "  mean_data = np.mean(train_data.values, axis = 0)\n",
        "  for label in labels:\n",
        "      data_per_class = train_data[train_labels.values == label].values\n",
        "      Sw = Sw + calc_var_perClass(data_per_class)\n",
        "      SB = SB + calc_inner_Class(data_per_class, mean_data)\n",
        "  return Sw, SB\n",
        "  \n"
      ],
      "execution_count": 7,
      "outputs": []
    },
    {
      "cell_type": "code",
      "metadata": {
        "id": "o9Kaeny6QLz1"
      },
      "source": [
        "Sw, SB =  lda_mat(train_data, train_labels)"
      ],
      "execution_count": 8,
      "outputs": []
    },
    {
      "cell_type": "code",
      "metadata": {
        "colab": {
          "base_uri": "https://localhost:8080/",
          "height": 308
        },
        "id": "ZRDCyOFTTW7u",
        "outputId": "f22c943f-1e86-4f9c-e14d-8fdd4c50e10b"
      },
      "source": [
        "\n",
        "ldt_matrix = np.matmul(LA.pinv(Sw), SB)\n",
        "alpha = 0.000001\n",
        "#ldt_matrix = np.matmul(LA.inv(Sw+ alpha*np.identity(len(Sw))), SB)\n",
        "eigVal, eigVect= LA.eig(ldt_matrix)\n",
        "eigVal = np.real(eigVal)\n",
        "eigVect = np.real(eigVect)\n",
        "plt.plot(eigVal)\n",
        "plt.ylabel(\"Eig Value\")\n",
        "plt.xlabel('Number of Components')"
      ],
      "execution_count": 9,
      "outputs": [
        {
          "output_type": "execute_result",
          "data": {
            "text/plain": [
              "Text(0.5, 0, 'Number of Components')"
            ]
          },
          "metadata": {
            "tags": []
          },
          "execution_count": 9
        },
        {
          "output_type": "display_data",
          "data": {
            "image/png": "[encoded data removed]",
            "text/plain": [
              "<Figure size 432x288 with 1 Axes>"
            ]
          },
          "metadata": {
            "tags": [],
            "needs_background": "light"
          }
        }
      ]
    },
    {
      "cell_type": "code",
      "metadata": {
        "colab": {
          "base_uri": "https://localhost:8080/",
          "height": 308
        },
        "id": "b3yNaZylt18V",
        "outputId": "18fd089e-4100-4ee6-eb56-45415e0cc4f6"
      },
      "source": [
        "cum_sum_trace = np.cumsum(eigVal)\n",
        "plt.plot(cum_sum_trace)\n",
        "plt.xlabel('Number of Features')\n",
        "plt.ylabel('Separability Measure')"
      ],
      "execution_count": 10,
      "outputs": [
        {
          "output_type": "execute_result",
          "data": {
            "text/plain": [
              "Text(0, 0.5, 'Separability Measure')"
            ]
          },
          "metadata": {
            "tags": []
          },
          "execution_count": 10
        },
        {
          "output_type": "display_data",
          "data": {
            "image/png": "[encoded data removed]",
            "text/plain": [
              "<Figure size 432x288 with 1 Axes>"
            ]
          },
          "metadata": {
            "tags": [],
            "needs_background": "light"
          }
        }
      ]
    },
    {
      "cell_type": "code",
      "metadata": {
        "colab": {
          "base_uri": "https://localhost:8080/"
        },
        "id": "uYpgaQLwXsuM",
        "outputId": "77a1609c-3892-4721-bdcc-ea95058e2c81"
      },
      "source": [
        "myLabels = np.unique(y_train)\n",
        "len(myLabels)\n",
        "W = eigVect[:,0:len(myLabels)-1]\n",
        "print(W.shape, X_train.shape)\n",
        "transformed_train = (np.matmul(W.T, X_train.T)).T\n",
        "transformed_test = (np.matmul(W.T, X_test.T)).T"
      ],
      "execution_count": 11,
      "outputs": [
        {
          "output_type": "stream",
          "text": [
            "(196, 9) (4999, 196)\n"
          ],
          "name": "stdout"
        }
      ]
    },
    {
      "cell_type": "code",
      "metadata": {
        "colab": {
          "base_uri": "https://localhost:8080/"
        },
        "id": "OqxgeU4tf_2Y",
        "outputId": "67f3a39b-96d0-4bce-854a-67d575e77d16"
      },
      "source": [
        "clf = GaussianNB()  \n",
        "clf.fit(transformed_train, y_train)\n",
        "y_pred = clf.predict(transformed_test)\n",
        "accuracy_score(y_test, y_pred)"
      ],
      "execution_count": 12,
      "outputs": [
        {
          "output_type": "stream",
          "text": [
            "/usr/local/lib/python3.6/dist-packages/sklearn/naive_bayes.py:206: DataConversionWarning: A column-vector y was passed when a 1d array was expected. Please change the shape of y to (n_samples, ), for example using ravel().\n",
            "  y = column_or_1d(y, warn=True)\n"
          ],
          "name": "stderr"
        },
        {
          "output_type": "execute_result",
          "data": {
            "text/plain": [
              "0.30532212885154064"
            ]
          },
          "metadata": {
            "tags": []
          },
          "execution_count": 12
        }
      ]
    },
    {
      "cell_type": "code",
      "metadata": {
        "colab": {
          "base_uri": "https://localhost:8080/"
        },
        "id": "QrlFlGVzgcfk",
        "outputId": "0b3d9311-8961-4864-ab12-ad21ad406241"
      },
      "source": [
        "clf = GaussianNB()  \n",
        "clf.fit(X_train, y_train)\n",
        "y_pred = clf.predict(X_test)\n",
        "accuracy_score(y_test, y_pred)"
      ],
      "execution_count": 13,
      "outputs": [
        {
          "output_type": "stream",
          "text": [
            "/usr/local/lib/python3.6/dist-packages/sklearn/naive_bayes.py:206: DataConversionWarning: A column-vector y was passed when a 1d array was expected. Please change the shape of y to (n_samples, ), for example using ravel().\n",
            "  y = column_or_1d(y, warn=True)\n"
          ],
          "name": "stderr"
        },
        {
          "output_type": "execute_result",
          "data": {
            "text/plain": [
              "0.5070028011204482"
            ]
          },
          "metadata": {
            "tags": []
          },
          "execution_count": 13
        }
      ]
    },
    {
      "cell_type": "code",
      "metadata": {
        "colab": {
          "base_uri": "https://localhost:8080/"
        },
        "id": "qrY5E_4dGnKc",
        "outputId": "c9d1804c-ef0f-4da9-ac3c-a63e871507b6"
      },
      "source": [
        "myLabels = np.unique(y_train)\n",
        "len(myLabels)\n",
        "W = eigVect[:,0:150]\n",
        "print(W.shape, X_train.shape)\n",
        "transformed_train = (np.matmul(W.T, X_train.T)).T\n",
        "transformed_test = (np.matmul(W.T, X_test.T)).T\n",
        "\n",
        "clf = GaussianNB()  \n",
        "clf.fit(transformed_train, y_train)\n",
        "y_pred = clf.predict(transformed_test)\n",
        "accuracy_score(y_test, y_pred)"
      ],
      "execution_count": 14,
      "outputs": [
        {
          "output_type": "stream",
          "text": [
            "(196, 150) (4999, 196)\n"
          ],
          "name": "stdout"
        },
        {
          "output_type": "stream",
          "text": [
            "/usr/local/lib/python3.6/dist-packages/sklearn/naive_bayes.py:206: DataConversionWarning: A column-vector y was passed when a 1d array was expected. Please change the shape of y to (n_samples, ), for example using ravel().\n",
            "  y = column_or_1d(y, warn=True)\n"
          ],
          "name": "stderr"
        },
        {
          "output_type": "execute_result",
          "data": {
            "text/plain": [
              "0.49939975990396157"
            ]
          },
          "metadata": {
            "tags": []
          },
          "execution_count": 14
        }
      ]
    }
  ]
}
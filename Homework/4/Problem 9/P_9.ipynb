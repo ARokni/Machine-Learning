{
  "nbformat": 4,
  "nbformat_minor": 0,
  "metadata": {
    "colab": {
      "name": "ML_HW4_P9.ipynb",
      "provenance": [],
      "collapsed_sections": []
    },
    "kernelspec": {
      "name": "python3",
      "display_name": "Python 3"
    },
    "accelerator": "GPU"
  },
  "cells": [
    {
      "cell_type": "code",
      "metadata": {
        "id": "jzoTOAmxoxKc"
      },
      "source": [
        "import pandas as pd\n",
        "import numpy as np\n",
        "from sklearn.metrics import accuracy_score\n",
        "from sklearn.naive_bayes import GaussianNB   "
      ],
      "execution_count": 1,
      "outputs": []
    },
    {
      "cell_type": "code",
      "metadata": {
        "id": "2kQirRGCrLwU"
      },
      "source": [
        "train_data    = pd.read_csv('/content/drive/MyDrive/ML_Hw4/TinyMNIST/trainData.csv')\n",
        "train_labels  = pd.read_csv('/content/drive/MyDrive/ML_Hw4/TinyMNIST/trainLabels.csv')\n",
        "test_data     = pd.read_csv('/content/drive/MyDrive/ML_Hw4/TinyMNIST/testData.csv')  \n",
        "test_labels     = pd.read_csv('/content/drive/MyDrive/ML_Hw4/TinyMNIST/testLabels.csv')   \n",
        "\n",
        "X_train = train_data.values; y_train = train_labels.values\n",
        "X_test = test_data.values;   y_test  = test_labels.values"
      ],
      "execution_count": 2,
      "outputs": []
    },
    {
      "cell_type": "code",
      "metadata": {
        "id": "_dDOlsTYujJ1"
      },
      "source": [
        "def calc_cost(X_train, X_test, y_train, y_test, selected_feature, feature):\n",
        "    selected_feature = selected_feature.tolist()\n",
        "    selected_feature.append(feature)\n",
        "    X_train_cond = np.copy(X_train[:,selected_feature])\n",
        "    X_test_cond = np.copy(X_test[:,selected_feature])\n",
        "    clf = GaussianNB()  \n",
        "    clf.fit(X_train_cond, y_train)\n",
        "    y_pred = clf.predict(X_test_cond)\n",
        "    return  accuracy_score(y_test, y_pred)\n",
        "                           \n",
        "def forward_selection(X_train, X_test, y_train, y_test, feature_number):\n",
        "    remained_features = np.arange(0, X_train.shape[1])\n",
        "    remained_features = remained_features.tolist()\n",
        "    selected_feature = []\n",
        "    total_cost = []\n",
        "    while len(selected_feature)<feature_number:\n",
        "      cost = []\n",
        "      for feature in remained_features:\n",
        "        cost_tmp = calc_cost(X_train, X_test, y_train, y_test, np.copy(selected_feature), feature)\n",
        "        cost.append(cost_tmp)\n",
        "      best_ind     =  cost.index(max(cost))\n",
        "      best_feature =  remained_features[best_ind]\n",
        "      selected_feature.append(best_feature)\n",
        "      remained_features.remove(best_feature)\n",
        "      total_cost.append(max(cost))\n",
        "    print(\"************************************************************************: \",len(selected_feature))\n",
        "    return selected_feature, total_cost"
      ],
      "execution_count": 5,
      "outputs": []
    },
    {
      "cell_type": "code",
      "metadata": {
        "colab": {
          "base_uri": "https://localhost:8080/"
        },
        "id": "ZGVk3WbH1v4T",
        "outputId": "f65d7843-0c49-4a89-a6ad-422b83b37501"
      },
      "source": [
        "selected_feature, total_cost = forward_selection(X_train, X_test, y_train.reshape(len(y_train)), y_test.reshape(len(y_test)), feature_number = 196)"
      ],
      "execution_count": 6,
      "outputs": [
        {
          "output_type": "stream",
          "text": [
            "/usr/local/lib/python3.6/dist-packages/sklearn/naive_bayes.py:450: RuntimeWarning: divide by zero encountered in log\n",
            "  n_ij = - 0.5 * np.sum(np.log(2. * np.pi * self.sigma_[i, :]))\n",
            "/usr/local/lib/python3.6/dist-packages/sklearn/naive_bayes.py:452: RuntimeWarning: invalid value encountered in true_divide\n",
            "  (self.sigma_[i, :]), 1)\n",
            "/usr/local/lib/python3.6/dist-packages/sklearn/naive_bayes.py:450: RuntimeWarning: divide by zero encountered in log\n",
            "  n_ij = - 0.5 * np.sum(np.log(2. * np.pi * self.sigma_[i, :]))\n",
            "/usr/local/lib/python3.6/dist-packages/sklearn/naive_bayes.py:452: RuntimeWarning: invalid value encountered in true_divide\n",
            "  (self.sigma_[i, :]), 1)\n",
            "/usr/local/lib/python3.6/dist-packages/sklearn/naive_bayes.py:450: RuntimeWarning: divide by zero encountered in log\n",
            "  n_ij = - 0.5 * np.sum(np.log(2. * np.pi * self.sigma_[i, :]))\n",
            "/usr/local/lib/python3.6/dist-packages/sklearn/naive_bayes.py:452: RuntimeWarning: invalid value encountered in true_divide\n",
            "  (self.sigma_[i, :]), 1)\n",
            "/usr/local/lib/python3.6/dist-packages/sklearn/naive_bayes.py:450: RuntimeWarning: divide by zero encountered in log\n",
            "  n_ij = - 0.5 * np.sum(np.log(2. * np.pi * self.sigma_[i, :]))\n",
            "/usr/local/lib/python3.6/dist-packages/sklearn/naive_bayes.py:452: RuntimeWarning: invalid value encountered in true_divide\n",
            "  (self.sigma_[i, :]), 1)\n",
            "/usr/local/lib/python3.6/dist-packages/sklearn/naive_bayes.py:450: RuntimeWarning: divide by zero encountered in log\n",
            "  n_ij = - 0.5 * np.sum(np.log(2. * np.pi * self.sigma_[i, :]))\n",
            "/usr/local/lib/python3.6/dist-packages/sklearn/naive_bayes.py:452: RuntimeWarning: invalid value encountered in true_divide\n",
            "  (self.sigma_[i, :]), 1)\n",
            "/usr/local/lib/python3.6/dist-packages/sklearn/naive_bayes.py:450: RuntimeWarning: divide by zero encountered in log\n",
            "  n_ij = - 0.5 * np.sum(np.log(2. * np.pi * self.sigma_[i, :]))\n",
            "/usr/local/lib/python3.6/dist-packages/sklearn/naive_bayes.py:452: RuntimeWarning: invalid value encountered in true_divide\n",
            "  (self.sigma_[i, :]), 1)\n",
            "/usr/local/lib/python3.6/dist-packages/sklearn/naive_bayes.py:450: RuntimeWarning: divide by zero encountered in log\n",
            "  n_ij = - 0.5 * np.sum(np.log(2. * np.pi * self.sigma_[i, :]))\n",
            "/usr/local/lib/python3.6/dist-packages/sklearn/naive_bayes.py:452: RuntimeWarning: invalid value encountered in true_divide\n",
            "  (self.sigma_[i, :]), 1)\n",
            "/usr/local/lib/python3.6/dist-packages/sklearn/naive_bayes.py:450: RuntimeWarning: divide by zero encountered in log\n",
            "  n_ij = - 0.5 * np.sum(np.log(2. * np.pi * self.sigma_[i, :]))\n",
            "/usr/local/lib/python3.6/dist-packages/sklearn/naive_bayes.py:452: RuntimeWarning: invalid value encountered in true_divide\n",
            "  (self.sigma_[i, :]), 1)\n",
            "/usr/local/lib/python3.6/dist-packages/sklearn/naive_bayes.py:450: RuntimeWarning: divide by zero encountered in log\n",
            "  n_ij = - 0.5 * np.sum(np.log(2. * np.pi * self.sigma_[i, :]))\n",
            "/usr/local/lib/python3.6/dist-packages/sklearn/naive_bayes.py:452: RuntimeWarning: invalid value encountered in true_divide\n",
            "  (self.sigma_[i, :]), 1)\n",
            "/usr/local/lib/python3.6/dist-packages/sklearn/naive_bayes.py:450: RuntimeWarning: divide by zero encountered in log\n",
            "  n_ij = - 0.5 * np.sum(np.log(2. * np.pi * self.sigma_[i, :]))\n",
            "/usr/local/lib/python3.6/dist-packages/sklearn/naive_bayes.py:452: RuntimeWarning: invalid value encountered in true_divide\n",
            "  (self.sigma_[i, :]), 1)\n",
            "/usr/local/lib/python3.6/dist-packages/sklearn/naive_bayes.py:450: RuntimeWarning: divide by zero encountered in log\n",
            "  n_ij = - 0.5 * np.sum(np.log(2. * np.pi * self.sigma_[i, :]))\n",
            "/usr/local/lib/python3.6/dist-packages/sklearn/naive_bayes.py:452: RuntimeWarning: invalid value encountered in true_divide\n",
            "  (self.sigma_[i, :]), 1)\n",
            "/usr/local/lib/python3.6/dist-packages/sklearn/naive_bayes.py:450: RuntimeWarning: divide by zero encountered in log\n",
            "  n_ij = - 0.5 * np.sum(np.log(2. * np.pi * self.sigma_[i, :]))\n",
            "/usr/local/lib/python3.6/dist-packages/sklearn/naive_bayes.py:452: RuntimeWarning: invalid value encountered in true_divide\n",
            "  (self.sigma_[i, :]), 1)\n",
            "/usr/local/lib/python3.6/dist-packages/sklearn/naive_bayes.py:450: RuntimeWarning: divide by zero encountered in log\n",
            "  n_ij = - 0.5 * np.sum(np.log(2. * np.pi * self.sigma_[i, :]))\n",
            "/usr/local/lib/python3.6/dist-packages/sklearn/naive_bayes.py:452: RuntimeWarning: invalid value encountered in true_divide\n",
            "  (self.sigma_[i, :]), 1)\n",
            "/usr/local/lib/python3.6/dist-packages/sklearn/naive_bayes.py:450: RuntimeWarning: divide by zero encountered in log\n",
            "  n_ij = - 0.5 * np.sum(np.log(2. * np.pi * self.sigma_[i, :]))\n",
            "/usr/local/lib/python3.6/dist-packages/sklearn/naive_bayes.py:452: RuntimeWarning: divide by zero encountered in true_divide\n",
            "  (self.sigma_[i, :]), 1)\n",
            "/usr/local/lib/python3.6/dist-packages/sklearn/naive_bayes.py:452: RuntimeWarning: invalid value encountered in true_divide\n",
            "  (self.sigma_[i, :]), 1)\n",
            "/usr/local/lib/python3.6/dist-packages/sklearn/naive_bayes.py:452: RuntimeWarning: invalid value encountered in subtract\n",
            "  (self.sigma_[i, :]), 1)\n",
            "/usr/local/lib/python3.6/dist-packages/sklearn/naive_bayes.py:450: RuntimeWarning: divide by zero encountered in log\n",
            "  n_ij = - 0.5 * np.sum(np.log(2. * np.pi * self.sigma_[i, :]))\n",
            "/usr/local/lib/python3.6/dist-packages/sklearn/naive_bayes.py:452: RuntimeWarning: invalid value encountered in true_divide\n",
            "  (self.sigma_[i, :]), 1)\n",
            "/usr/local/lib/python3.6/dist-packages/sklearn/naive_bayes.py:450: RuntimeWarning: divide by zero encountered in log\n",
            "  n_ij = - 0.5 * np.sum(np.log(2. * np.pi * self.sigma_[i, :]))\n",
            "/usr/local/lib/python3.6/dist-packages/sklearn/naive_bayes.py:452: RuntimeWarning: invalid value encountered in true_divide\n",
            "  (self.sigma_[i, :]), 1)\n",
            "/usr/local/lib/python3.6/dist-packages/sklearn/naive_bayes.py:450: RuntimeWarning: divide by zero encountered in log\n",
            "  n_ij = - 0.5 * np.sum(np.log(2. * np.pi * self.sigma_[i, :]))\n",
            "/usr/local/lib/python3.6/dist-packages/sklearn/naive_bayes.py:452: RuntimeWarning: invalid value encountered in true_divide\n",
            "  (self.sigma_[i, :]), 1)\n",
            "/usr/local/lib/python3.6/dist-packages/sklearn/naive_bayes.py:450: RuntimeWarning: divide by zero encountered in log\n",
            "  n_ij = - 0.5 * np.sum(np.log(2. * np.pi * self.sigma_[i, :]))\n",
            "/usr/local/lib/python3.6/dist-packages/sklearn/naive_bayes.py:452: RuntimeWarning: invalid value encountered in true_divide\n",
            "  (self.sigma_[i, :]), 1)\n",
            "/usr/local/lib/python3.6/dist-packages/sklearn/naive_bayes.py:450: RuntimeWarning: divide by zero encountered in log\n",
            "  n_ij = - 0.5 * np.sum(np.log(2. * np.pi * self.sigma_[i, :]))\n",
            "/usr/local/lib/python3.6/dist-packages/sklearn/naive_bayes.py:452: RuntimeWarning: invalid value encountered in true_divide\n",
            "  (self.sigma_[i, :]), 1)\n",
            "/usr/local/lib/python3.6/dist-packages/sklearn/naive_bayes.py:450: RuntimeWarning: divide by zero encountered in log\n",
            "  n_ij = - 0.5 * np.sum(np.log(2. * np.pi * self.sigma_[i, :]))\n",
            "/usr/local/lib/python3.6/dist-packages/sklearn/naive_bayes.py:452: RuntimeWarning: invalid value encountered in true_divide\n",
            "  (self.sigma_[i, :]), 1)\n"
          ],
          "name": "stderr"
        },
        {
          "output_type": "stream",
          "text": [
            "************************************************************************:  196\n"
          ],
          "name": "stdout"
        }
      ]
    },
    {
      "cell_type": "code",
      "metadata": {
        "colab": {
          "base_uri": "https://localhost:8080/",
          "height": 283
        },
        "id": "J2aUNtyO_zTf",
        "outputId": "362bd800-9f04-4c77-81ee-4ea9af8133f1"
      },
      "source": [
        "import matplotlib.pyplot as plt\n",
        "plt.plot(total_cost)\n",
        "#selected_feature"
      ],
      "execution_count": 7,
      "outputs": [
        {
          "output_type": "execute_result",
          "data": {
            "text/plain": [
              "[<matplotlib.lines.Line2D at 0x7fde3a5752b0>]"
            ]
          },
          "metadata": {
            "tags": []
          },
          "execution_count": 7
        },
        {
          "output_type": "display_data",
          "data": {
            "image/png": "[encoded data removed]",
            "text/plain": [
              "<Figure size 432x288 with 1 Axes>"
            ]
          },
          "metadata": {
            "tags": [],
            "needs_background": "light"
          }
        }
      ]
    },
    {
      "cell_type": "code",
      "metadata": {
        "colab": {
          "base_uri": "https://localhost:8080/"
        },
        "id": "b2AtNMFZ79Bs",
        "outputId": "5f1aaf17-86fb-4935-a311-7527187a3175"
      },
      "source": [
        "total_cost[90]"
      ],
      "execution_count": null,
      "outputs": [
        {
          "output_type": "execute_result",
          "data": {
            "text/plain": [
              "0.8051220488195278"
            ]
          },
          "metadata": {
            "tags": []
          },
          "execution_count": 23
        }
      ]
    }
  ]
}